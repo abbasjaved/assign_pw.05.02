{
 "cells": [
  {
   "cell_type": "code",
   "execution_count": null,
   "id": "e29e0366-9c1e-4f60-b5c8-26998d6ce394",
   "metadata": {},
   "outputs": [],
   "source": [
    "#Solution 1"
   ]
  },
  {
   "cell_type": "code",
   "execution_count": 1,
   "id": "d1c490eb-5cd5-430c-a3f2-d65a929e95a5",
   "metadata": {},
   "outputs": [
    {
     "data": {
      "text/plain": [
       "'Class is a collection of data. class contains the blueprints or the prototype from which the objects are being created. which contains some attributes and methods.'"
      ]
     },
     "execution_count": 1,
     "metadata": {},
     "output_type": "execute_result"
    }
   ],
   "source": [
    "'''Class is a collection of data. class contains the blueprints or the prototype from which the objects are being created. which contains some attributes and methods.'''"
   ]
  },
  {
   "cell_type": "code",
   "execution_count": 2,
   "id": "884535b2-a071-42cc-8dd2-ba1c3da55994",
   "metadata": {},
   "outputs": [
    {
     "data": {
      "text/plain": [
       "'To understand the need for creating a class let’s consider an example, let’s say you wanted to track the number of dogs that may have different attributes like breed, age. If a list is used, the first element could be the dog’s breed while the second element could represent its age. Let’s suppose there are 100 different dogs, then how would you know which element is supposed to be which? What if you wanted to add other properties to these dogs? This lacks organization and it’s the exact need for classes.'"
      ]
     },
     "execution_count": 2,
     "metadata": {},
     "output_type": "execute_result"
    }
   ],
   "source": [
    "'''To understand the need for creating a class let’s consider an example, let’s say you wanted to track the number of dogs that may have different attributes like breed, age. If a list is used, the first element could be the dog’s breed while the second element could represent its age. Let’s suppose there are 100 different dogs, then how would you know which element is supposed to be which? What if you wanted to add other properties to these dogs? This lacks organization and it’s the exact need for classes.'''"
   ]
  },
  {
   "cell_type": "code",
   "execution_count": 16,
   "id": "a023559d-0b5c-46c3-ac42-bf1a4ff35d15",
   "metadata": {},
   "outputs": [],
   "source": [
    "class Dog:\n",
    "    def dog_details(self):\n",
    "        print(\"Hello, Welcome to the dog details world\")"
   ]
  },
  {
   "cell_type": "code",
   "execution_count": 17,
   "id": "7445e242-9d57-46f4-ab82-4d4d6ebc6bf1",
   "metadata": {},
   "outputs": [
    {
     "data": {
      "text/plain": [
       "' Objects: The object is an entity that has a state and behavior associated with it. It may be any real-world object like a mouse, keyboard, chair, table, pen, etc. Integers, strings, floating-point numbers, evern arrays, and dictionaries, are all objects. More specifically, any single integer or any single sting is an object. The number 12 is an object, the string \"Hello World\" is an object, a list is an object that can hold other objects, and so on. You\\'ve been using objects all along and may not even realize it.'"
      ]
     },
     "execution_count": 17,
     "metadata": {},
     "output_type": "execute_result"
    }
   ],
   "source": [
    "''' Objects: The object is an entity that has a state and behavior associated with it. It may be any real-world object like a mouse, keyboard, chair, table, pen, etc. Integers, strings, floating-point numbers, evern arrays, and dictionaries, are all objects. More specifically, any single integer or any single sting is an object. The number 12 is an object, the string \"Hello World\" is an object, a list is an object that can hold other objects, and so on. You've been using objects all along and may not even realize it.'''"
   ]
  },
  {
   "cell_type": "code",
   "execution_count": 18,
   "id": "12870772-5761-43de-9690-9f406693797c",
   "metadata": {},
   "outputs": [],
   "source": [
    "tommy  = Dog()"
   ]
  },
  {
   "cell_type": "code",
   "execution_count": 19,
   "id": "318a1485-6c94-4bfb-9ac7-9526ed25624f",
   "metadata": {},
   "outputs": [
    {
     "name": "stdout",
     "output_type": "stream",
     "text": [
      "Hello, Welcome to the dog details world\n"
     ]
    }
   ],
   "source": [
    "tommy.dog_details()"
   ]
  },
  {
   "cell_type": "code",
   "execution_count": 20,
   "id": "ceaddba4-5a44-40e6-9146-d6961baa700a",
   "metadata": {},
   "outputs": [],
   "source": [
    "#Solution 2"
   ]
  },
  {
   "cell_type": "code",
   "execution_count": 22,
   "id": "30e5f7f4-fbf2-48d0-b8e0-9930f0c71902",
   "metadata": {},
   "outputs": [
    {
     "data": {
      "text/plain": [
       "'Four pillars in OOPs:\\nInheritance, Polymorphism, Encapsulation and Abstraction'"
      ]
     },
     "execution_count": 22,
     "metadata": {},
     "output_type": "execute_result"
    }
   ],
   "source": [
    "'''Four pillars in OOPs:\n",
    "Inheritance, Polymorphism, Encapsulation and Abstraction'''\n"
   ]
  },
  {
   "cell_type": "code",
   "execution_count": 23,
   "id": "b711b111-d497-4661-af7d-6ec35b963e2e",
   "metadata": {},
   "outputs": [],
   "source": [
    "#Solution 3"
   ]
  },
  {
   "cell_type": "code",
   "execution_count": 24,
   "id": "def4ae18-5820-49cd-a40a-f8a530f3276d",
   "metadata": {},
   "outputs": [
    {
     "data": {
      "text/plain": [
       "\"The  __init__ function is called every time an object is created from a class. The  __init__ method lets the class initialize the object's attributes and serves and servers no other purpose. It is only used within classes.\""
      ]
     },
     "execution_count": 24,
     "metadata": {},
     "output_type": "execute_result"
    }
   ],
   "source": [
    "'''The  __init__ function is called every time an object is created from a class. The  __init__ method lets the class initialize the object's attributes and serves and servers no other purpose. It is only used within classes.'''"
   ]
  },
  {
   "cell_type": "code",
   "execution_count": 72,
   "id": "6e4cfc56-e76c-428f-b4c1-773244fe2f7f",
   "metadata": {},
   "outputs": [],
   "source": [
    "class NITT:\n",
    "    def  __init__(self, s_name, s_rollnumber, s_branch, s_year):\n",
    "        self.s_name = s_name\n",
    "        self.s_rollnumber = s_rollnumber\n",
    "        self.s_branch = s_branch\n",
    "        self.s_year = s_year\n",
    "    def return_details(self):\n",
    "        return self.s_name, self.s_branch, self.s_rollnumber, self.s_year"
   ]
  },
  {
   "cell_type": "code",
   "execution_count": 73,
   "id": "a51d467c-9c1a-4c70-8cf0-e7c0b70869f6",
   "metadata": {},
   "outputs": [],
   "source": [
    "abbas = NITT(\"javed\", 213122022 , \"NDT\", \"1st\")"
   ]
  },
  {
   "cell_type": "code",
   "execution_count": 74,
   "id": "09930cd6-8754-4d8b-a38b-8843e44f2a43",
   "metadata": {},
   "outputs": [
    {
     "data": {
      "text/plain": [
       "213122022"
      ]
     },
     "execution_count": 74,
     "metadata": {},
     "output_type": "execute_result"
    }
   ],
   "source": [
    "abbas.s_rollnumber"
   ]
  },
  {
   "cell_type": "code",
   "execution_count": 75,
   "id": "799caa21-0d56-4c48-ae8b-88c6ff603dea",
   "metadata": {},
   "outputs": [
    {
     "data": {
      "text/plain": [
       "'1st'"
      ]
     },
     "execution_count": 75,
     "metadata": {},
     "output_type": "execute_result"
    }
   ],
   "source": [
    "abbas.s_year"
   ]
  },
  {
   "cell_type": "code",
   "execution_count": 76,
   "id": "d8e9facb-c403-4a47-a363-f6917126012f",
   "metadata": {},
   "outputs": [
    {
     "data": {
      "text/plain": [
       "('javed', 'NDT', 213122022, '1st')"
      ]
     },
     "execution_count": 76,
     "metadata": {},
     "output_type": "execute_result"
    }
   ],
   "source": [
    "abbas.return_details()"
   ]
  },
  {
   "cell_type": "code",
   "execution_count": 77,
   "id": "73347f41-d2f5-4e7f-afdb-fea476c9deab",
   "metadata": {},
   "outputs": [],
   "source": [
    "#Solution 4"
   ]
  },
  {
   "cell_type": "code",
   "execution_count": 79,
   "id": "608bb70b-1792-4622-8706-5a2e7d3c6c1e",
   "metadata": {},
   "outputs": [
    {
     "data": {
      "text/plain": [
       "'The self variable is used to represent the instance of the class which is often used in object-oriented programming. It works as a reference to the object. Python uses the self parameter to refer to instance attributes and methods of the class.'"
      ]
     },
     "execution_count": 79,
     "metadata": {},
     "output_type": "execute_result"
    }
   ],
   "source": [
    "'''The self variable is used to represent the instance of the class which is often used in object-oriented programming. It works as a reference to the object. Python uses the self parameter to refer to instance attributes and methods of the class.'''"
   ]
  },
  {
   "cell_type": "code",
   "execution_count": 80,
   "id": "f0cda832-bfba-4c69-ba03-83b21bb5b27e",
   "metadata": {},
   "outputs": [],
   "source": [
    "#Solution 5"
   ]
  },
  {
   "cell_type": "code",
   "execution_count": 81,
   "id": "f66a3f5e-f2d5-47e8-9668-7c48eda67ecf",
   "metadata": {},
   "outputs": [
    {
     "data": {
      "text/plain": [
       "'Inheritance is a process of obtaining properties and characteristics(variables and methods) of another class. In this hierarchical order, the class which inherits another class is called subclass or child class, and the other class is the parent class.'"
      ]
     },
     "execution_count": 81,
     "metadata": {},
     "output_type": "execute_result"
    }
   ],
   "source": [
    "'''Inheritance is a process of obtaining properties and characteristics(variables and methods) of another class. In this hierarchical order, the class which inherits another class is called subclass or child class, and the other class is the parent class.'''"
   ]
  },
  {
   "cell_type": "code",
   "execution_count": 88,
   "id": "d4d08423-83fb-451d-b46d-d1b90bab291c",
   "metadata": {},
   "outputs": [],
   "source": [
    "#Base class\n",
    "class Parent:\n",
    "    def func1(self):\n",
    "        print(\"This function is in parent class.\")\n",
    "\n",
    "#Derived class\n",
    "class child(Parent):\n",
    "    def func2(self):\n",
    "        print(\"This function is in child class.\")"
   ]
  },
  {
   "cell_type": "code",
   "execution_count": 90,
   "id": "4c16e554-a3c8-46f6-b478-0a233bd0b280",
   "metadata": {},
   "outputs": [
    {
     "name": "stdout",
     "output_type": "stream",
     "text": [
      "This function is in parent class.\n"
     ]
    }
   ],
   "source": [
    "javed = child()\n",
    "javed.func1()"
   ]
  },
  {
   "cell_type": "code",
   "execution_count": null,
   "id": "4c0f28c8-15ac-452c-81b1-3f5e2a2dd869",
   "metadata": {},
   "outputs": [],
   "source": []
  }
 ],
 "metadata": {
  "kernelspec": {
   "display_name": "Python 3 (ipykernel)",
   "language": "python",
   "name": "python3"
  },
  "language_info": {
   "codemirror_mode": {
    "name": "ipython",
    "version": 3
   },
   "file_extension": ".py",
   "mimetype": "text/x-python",
   "name": "python",
   "nbconvert_exporter": "python",
   "pygments_lexer": "ipython3",
   "version": "3.10.8"
  }
 },
 "nbformat": 4,
 "nbformat_minor": 5
}
